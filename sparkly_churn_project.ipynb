{
 "cells": [
  {
   "cell_type": "code",
   "execution_count": 27,
   "metadata": {},
   "outputs": [],
   "source": [
    "import pyspark\n",
    "from pyspark import SparkConf\n",
    "from pyspark.sql import SparkSession\n",
    "from pyspark.sql.functions import udf\n",
    "from pyspark.sql.types import StringType\n",
    "from pyspark.sql.types import IntegerType\n",
    "from pyspark.sql.functions import desc\n",
    "from pyspark.sql.functions import asc\n",
    "from pyspark.sql.functions import sum as Fsum\n",
    "from pyspark.sql.functions import col,sum\n",
    "from pyspark.sql.functions import from_utc_timestamp\n",
    "from pyspark.sql.functions import unix_timestamp\n",
    "from pyspark.sql.functions import from_unixtime\n",
    "from pyspark.sql.types import DateType\n",
    "from pyspark.sql.functions import split\n",
    "from pyspark.sql import Window\n",
    "\n",
    "import datetime\n",
    "\n",
    "import numpy as np\n",
    "import pandas as pd\n",
    "%matplotlib inline\n",
    "import seaborn as sns\n",
    "import matplotlib.pyplot as plt"
   ]
  },
  {
   "cell_type": "code",
   "execution_count": 28,
   "metadata": {},
   "outputs": [],
   "source": [
    "spark = SparkSession \\\n",
    "    .builder \\\n",
    "    .appName(\"Sparkify_project\") \\\n",
    "    .getOrCreate()"
   ]
  },
  {
   "cell_type": "code",
   "execution_count": 29,
   "metadata": {},
   "outputs": [
    {
     "data": {
      "text/html": [
       "\n",
       "            <div>\n",
       "                <p><b>SparkSession - in-memory</b></p>\n",
       "                \n",
       "        <div>\n",
       "            <p><b>SparkContext</b></p>\n",
       "\n",
       "            <p><a href=\"http://192.168.0.16:4041\">Spark UI</a></p>\n",
       "\n",
       "            <dl>\n",
       "              <dt>Version</dt>\n",
       "                <dd><code>v2.4.5</code></dd>\n",
       "              <dt>Master</dt>\n",
       "                <dd><code>local[*]</code></dd>\n",
       "              <dt>AppName</dt>\n",
       "                <dd><code>Sparkify_project</code></dd>\n",
       "            </dl>\n",
       "        </div>\n",
       "        \n",
       "            </div>\n",
       "        "
      ],
      "text/plain": [
       "<pyspark.sql.session.SparkSession at 0x1a11509a50>"
      ]
     },
     "execution_count": 29,
     "metadata": {},
     "output_type": "execute_result"
    }
   ],
   "source": [
    "spark"
   ]
  },
  {
   "cell_type": "code",
   "execution_count": 30,
   "metadata": {},
   "outputs": [],
   "source": [
    "def load_data(filename):\n",
    "    \n",
    "    '''\n",
    "    Funtion to load data and remove null, empty strings.\n",
    "    INPUT\n",
    "    filename = name of file as well the path\n",
    "    OUTPUT\n",
    "    df - a spark dataframe with no null rows for primary key\n",
    "    '''\n",
    "    \n",
    "    df = spark.read.json(filename)\n",
    "    \n",
    "    \n",
    "    print('\\n Data Set loaded Succesfully')\n",
    "    print(\"\\n Count of rows in dataframe: {}\".format(df.count()))\n",
    "    \n",
    "    return df\n",
    "    "
   ]
  },
  {
   "cell_type": "code",
   "execution_count": 31,
   "metadata": {},
   "outputs": [
    {
     "name": "stdout",
     "output_type": "stream",
     "text": [
      "\n",
      " Data Set loaded Succesfully\n",
      "\n",
      " Count of rows in dataframe: 286500\n"
     ]
    }
   ],
   "source": [
    "path = \"mini_sparkify_event_data.json\"\n",
    "df = load_data(path)"
   ]
  },
  {
   "cell_type": "code",
   "execution_count": 32,
   "metadata": {},
   "outputs": [
    {
     "name": "stdout",
     "output_type": "stream",
     "text": [
      "root\n",
      " |-- artist: string (nullable = true)\n",
      " |-- auth: string (nullable = true)\n",
      " |-- firstName: string (nullable = true)\n",
      " |-- gender: string (nullable = true)\n",
      " |-- itemInSession: long (nullable = true)\n",
      " |-- lastName: string (nullable = true)\n",
      " |-- length: double (nullable = true)\n",
      " |-- level: string (nullable = true)\n",
      " |-- location: string (nullable = true)\n",
      " |-- method: string (nullable = true)\n",
      " |-- page: string (nullable = true)\n",
      " |-- registration: long (nullable = true)\n",
      " |-- sessionId: long (nullable = true)\n",
      " |-- song: string (nullable = true)\n",
      " |-- status: long (nullable = true)\n",
      " |-- ts: long (nullable = true)\n",
      " |-- userAgent: string (nullable = true)\n",
      " |-- userId: string (nullable = true)\n",
      "\n",
      "None\n"
     ]
    }
   ],
   "source": [
    "print(df.printSchema())"
   ]
  },
  {
   "cell_type": "code",
   "execution_count": 33,
   "metadata": {},
   "outputs": [
    {
     "data": {
      "text/plain": [
       "[Row(artist='Martha Tilston', auth='Logged In', firstName='Colin', gender='M', itemInSession=50, lastName='Freeman', length=277.89016, level='paid', location='Bakersfield, CA', method='PUT', page='NextSong', registration=1538173362000, sessionId=29, song='Rockpools', status=200, ts=1538352117000, userAgent='Mozilla/5.0 (Windows NT 6.1; WOW64; rv:31.0) Gecko/20100101 Firefox/31.0', userId='30'),\n",
       " Row(artist='Five Iron Frenzy', auth='Logged In', firstName='Micah', gender='M', itemInSession=79, lastName='Long', length=236.09424, level='free', location='Boston-Cambridge-Newton, MA-NH', method='PUT', page='NextSong', registration=1538331630000, sessionId=8, song='Canada', status=200, ts=1538352180000, userAgent='\"Mozilla/5.0 (Windows NT 6.1; WOW64) AppleWebKit/537.36 (KHTML, like Gecko) Chrome/37.0.2062.103 Safari/537.36\"', userId='9'),\n",
       " Row(artist='Adam Lambert', auth='Logged In', firstName='Colin', gender='M', itemInSession=51, lastName='Freeman', length=282.8273, level='paid', location='Bakersfield, CA', method='PUT', page='NextSong', registration=1538173362000, sessionId=29, song='Time For Miracles', status=200, ts=1538352394000, userAgent='Mozilla/5.0 (Windows NT 6.1; WOW64; rv:31.0) Gecko/20100101 Firefox/31.0', userId='30'),\n",
       " Row(artist='Enigma', auth='Logged In', firstName='Micah', gender='M', itemInSession=80, lastName='Long', length=262.71302, level='free', location='Boston-Cambridge-Newton, MA-NH', method='PUT', page='NextSong', registration=1538331630000, sessionId=8, song='Knocking On Forbidden Doors', status=200, ts=1538352416000, userAgent='\"Mozilla/5.0 (Windows NT 6.1; WOW64) AppleWebKit/537.36 (KHTML, like Gecko) Chrome/37.0.2062.103 Safari/537.36\"', userId='9'),\n",
       " Row(artist='Daft Punk', auth='Logged In', firstName='Colin', gender='M', itemInSession=52, lastName='Freeman', length=223.60771, level='paid', location='Bakersfield, CA', method='PUT', page='NextSong', registration=1538173362000, sessionId=29, song='Harder Better Faster Stronger', status=200, ts=1538352676000, userAgent='Mozilla/5.0 (Windows NT 6.1; WOW64; rv:31.0) Gecko/20100101 Firefox/31.0', userId='30')]"
      ]
     },
     "execution_count": 33,
     "metadata": {},
     "output_type": "execute_result"
    }
   ],
   "source": [
    "df.take(5)"
   ]
  },
  {
   "cell_type": "code",
   "execution_count": 34,
   "metadata": {
    "scrolled": false
   },
   "outputs": [
    {
     "name": "stdout",
     "output_type": "stream",
     "text": [
      "+-------+------------------+----------+---------+------+------------------+--------+------------------+------+-----------------+------+-------+--------------------+-----------------+--------------------+------------------+--------------------+--------------------+------------------+\n",
      "|summary|            artist|      auth|firstName|gender|     itemInSession|lastName|            length| level|         location|method|   page|        registration|        sessionId|                song|            status|                  ts|           userAgent|            userId|\n",
      "+-------+------------------+----------+---------+------+------------------+--------+------------------+------+-----------------+------+-------+--------------------+-----------------+--------------------+------------------+--------------------+--------------------+------------------+\n",
      "|  count|            228108|    286500|   278154|278154|            286500|  278154|            228108|286500|           278154|286500| 286500|              278154|           286500|              228108|            286500|              286500|              278154|            286500|\n",
      "|   mean| 551.0852017937219|      null|     null|  null|114.41421291448516|    null|249.11718197783583|  null|             null|  null|   null|1.535358834085619...|1041.526554973822|            Infinity|210.05459685863875|1.540956889810394...|                null| 59682.02278593872|\n",
      "| stddev|1217.7693079161377|      null|     null|  null| 129.7672620114106|    null| 99.23517921058313|  null|             null|  null|   null|3.2913216163281236E9|726.7762634630807|                 NaN|31.505078488421987|  1.50754396082106E9|                null|109091.94999910559|\n",
      "|    min|               !!!| Cancelled| Adelaida|     F|                 0|   Adams|           0.78322|  free|       Albany, OR|   GET|  About|       1521380675000|                1|\u001c",
      "ÃÂg ÃÂtti Gr...|               200|       1538352117000|\"Mozilla/5.0 (Mac...|                  |\n",
      "|    max| ÃÂlafur Arnalds|Logged Out|   Zyonna|     M|              1321|  Wright|        3024.66567|  paid|Winston-Salem, NC|   PUT|Upgrade|       1543247354000|             2474|ÃÂau hafa slopp...|               404|       1543799476000|Mozilla/5.0 (comp...|                99|\n",
      "+-------+------------------+----------+---------+------+------------------+--------+------------------+------+-----------------+------+-------+--------------------+-----------------+--------------------+------------------+--------------------+--------------------+------------------+\n",
      "\n"
     ]
    }
   ],
   "source": [
    "df.describe().show()"
   ]
  },
  {
   "cell_type": "code",
   "execution_count": 35,
   "metadata": {},
   "outputs": [
    {
     "data": {
      "text/plain": [
       "286500"
      ]
     },
     "execution_count": 35,
     "metadata": {},
     "output_type": "execute_result"
    }
   ],
   "source": [
    "df.count()"
   ]
  },
  {
   "cell_type": "markdown",
   "metadata": {},
   "source": [
    "## Removing the Missing values"
   ]
  },
  {
   "cell_type": "code",
   "execution_count": 36,
   "metadata": {},
   "outputs": [],
   "source": [
    "def remove_na(df):\n",
    "    \n",
    "    print(\"Removing the NA Values in the dataset \")\n",
    "    print(\"-\"*115)\n",
    "    print(\"\\n The size of the Data set before removing NA:\",df.count())\n",
    "    \n",
    "    df = df.dropna(how = \"any\", subset = [\"userId\", \"sessionId\"])\n",
    "    df = df.filter(df[\"userId\"] != \"\")\n",
    "    \n",
    "    print(\"\\n The size of the Data set after removing NA:\",df.count())\n",
    "    \n",
    "    print(\"\\n Updated Table after removing the NA Values \")\n",
    "    print(\"-\"*115)\n",
    "    \n",
    "    df.select(*(sum(col(c).isNull().cast(\"int\")).alias(c) for c in df.columns)).show() \n",
    "    print(\"-\"*115)\n",
    "    \n",
    "    return df"
   ]
  },
  {
   "cell_type": "code",
   "execution_count": 37,
   "metadata": {},
   "outputs": [
    {
     "name": "stdout",
     "output_type": "stream",
     "text": [
      "Removing the NA Values in the dataset \n",
      "-------------------------------------------------------------------------------------------------------------------\n",
      "\n",
      " The size of the Data set before removing NA: 286500\n",
      "\n",
      " The size of the Data set after removing NA: 278154\n",
      "\n",
      " Updated Table after removing the NA Values \n",
      "-------------------------------------------------------------------------------------------------------------------\n",
      "+------+----+---------+------+-------------+--------+------+-----+--------+------+----+------------+---------+-----+------+---+---------+------+\n",
      "|artist|auth|firstName|gender|itemInSession|lastName|length|level|location|method|page|registration|sessionId| song|status| ts|userAgent|userId|\n",
      "+------+----+---------+------+-------------+--------+------+-----+--------+------+----+------------+---------+-----+------+---+---------+------+\n",
      "| 50046|   0|        0|     0|            0|       0| 50046|    0|       0|     0|   0|           0|        0|50046|     0|  0|        0|     0|\n",
      "+------+----+---------+------+-------------+--------+------+-----+--------+------+----+------------+---------+-----+------+---+---------+------+\n",
      "\n",
      "-------------------------------------------------------------------------------------------------------------------\n"
     ]
    }
   ],
   "source": [
    "df = remove_na(df)"
   ]
  },
  {
   "cell_type": "markdown",
   "metadata": {},
   "source": [
    "## Some Basic Explorations"
   ]
  },
  {
   "cell_type": "code",
   "execution_count": 38,
   "metadata": {},
   "outputs": [],
   "source": [
    "def add_date_columns(df):\n",
    "    '''\n",
    "    Funtion to add date/time related columns to the dataframe.\n",
    "    INPUT - a spark dataframe\n",
    "    OUPUT - a spark dataframe with calculated fields: hour, month, year, day\n",
    "    '''\n",
    "    # create a function to get hour, month, year, day from timestamp\n",
    "    get_hour = udf(lambda x: datetime.datetime.fromtimestamp(x / 1000.0).hour)\n",
    "    get_month = udf(lambda x: datetime.datetime.fromtimestamp(x / 1000.0).month)\n",
    "    get_year = udf(lambda x: datetime.datetime.fromtimestamp(x / 1000.0).year)\n",
    "    get_day = udf(lambda x: datetime.datetime.fromtimestamp(x / 1000.0).day)\n",
    "    \n",
    "    \n",
    "    # add hour, month, year, day, date columns to the dataframe\n",
    "    df = df.withColumn(\"hour\", get_hour(df.ts))\n",
    "    df = df.withColumn(\"month\", get_month(df.ts))\n",
    "    df = df.withColumn(\"year\", get_year(df.ts))\n",
    "    df = df.withColumn(\"day\", get_day(df.ts))\n",
    "    df = df.withColumn(\"date\", from_unixtime(df.ts/1000).cast(DateType()))\n",
    "    \n",
    "    #df_test2.withColumn('date_again', func.from_unixtime('timestamp').cast(DateType()))\n",
    "    \n",
    "    \n",
    "    return df"
   ]
  },
  {
   "cell_type": "code",
   "execution_count": 39,
   "metadata": {},
   "outputs": [],
   "source": [
    "df = add_date_columns(df)"
   ]
  },
  {
   "cell_type": "code",
   "execution_count": 40,
   "metadata": {},
   "outputs": [
    {
     "data": {
      "text/plain": [
       "Row(artist='Martha Tilston', auth='Logged In', firstName='Colin', gender='M', itemInSession=50, lastName='Freeman', length=277.89016, level='paid', location='Bakersfield, CA', method='PUT', page='NextSong', registration=1538173362000, sessionId=29, song='Rockpools', status=200, ts=1538352117000, userAgent='Mozilla/5.0 (Windows NT 6.1; WOW64; rv:31.0) Gecko/20100101 Firefox/31.0', userId='30', hour='2', month='10', year='2018', day='1', date=datetime.date(2018, 10, 1))"
      ]
     },
     "execution_count": 40,
     "metadata": {},
     "output_type": "execute_result"
    }
   ],
   "source": [
    "df.head()"
   ]
  },
  {
   "cell_type": "code",
   "execution_count": 41,
   "metadata": {},
   "outputs": [
    {
     "name": "stdout",
     "output_type": "stream",
     "text": [
      "root\n",
      " |-- artist: string (nullable = true)\n",
      " |-- auth: string (nullable = true)\n",
      " |-- firstName: string (nullable = true)\n",
      " |-- gender: string (nullable = true)\n",
      " |-- itemInSession: long (nullable = true)\n",
      " |-- lastName: string (nullable = true)\n",
      " |-- length: double (nullable = true)\n",
      " |-- level: string (nullable = true)\n",
      " |-- location: string (nullable = true)\n",
      " |-- method: string (nullable = true)\n",
      " |-- page: string (nullable = true)\n",
      " |-- registration: long (nullable = true)\n",
      " |-- sessionId: long (nullable = true)\n",
      " |-- song: string (nullable = true)\n",
      " |-- status: long (nullable = true)\n",
      " |-- ts: long (nullable = true)\n",
      " |-- userAgent: string (nullable = true)\n",
      " |-- userId: string (nullable = true)\n",
      " |-- hour: string (nullable = true)\n",
      " |-- month: string (nullable = true)\n",
      " |-- year: string (nullable = true)\n",
      " |-- day: string (nullable = true)\n",
      " |-- date: date (nullable = true)\n",
      "\n",
      "None\n"
     ]
    }
   ],
   "source": [
    "print(df.printSchema())"
   ]
  },
  {
   "cell_type": "code",
   "execution_count": 42,
   "metadata": {},
   "outputs": [],
   "source": [
    "def get_hour_stats(df):\n",
    "    \n",
    "    '''\n",
    "    Funtion to load data and plot the scatter plot for hour by hour stats.\n",
    "    INPUT\n",
    "    filename = df - a spark dataframe\n",
    "    OUTPUT\n",
    "    df - a scatter plot from matplotlib\n",
    "    '''\n",
    "    \n",
    "    songs_in_hour = df.filter(df.page == \"NextSong\").groupby(df.hour).count().orderBy(df.hour.cast(\"float\"))\n",
    "    songs_in_hour_pd = songs_in_hour.toPandas()\n",
    "    songs_in_hour_pd.hour = pd.to_numeric(songs_in_hour_pd.hour)\n",
    "    \n",
    "    \n",
    "    plt.scatter(songs_in_hour_pd[\"hour\"], songs_in_hour_pd[\"count\"])\n",
    "    plt.xlim(-1, 24);\n",
    "    plt.ylim(0, 1.2 * max(songs_in_hour_pd[\"count\"]))\n",
    "    plt.xlabel(\"Hour\")\n",
    "    plt.ylabel(\"Songs played\");"
   ]
  },
  {
   "cell_type": "code",
   "execution_count": 43,
   "metadata": {},
   "outputs": [
    {
     "data": {
      "image/png": "[encoded data removed]",
      "text/plain": [
       "<Figure size 432x288 with 1 Axes>"
      ]
     },
     "metadata": {
      "needs_background": "light"
     },
     "output_type": "display_data"
    }
   ],
   "source": [
    "get_hour_stats(df)"
   ]
  },
  {
   "cell_type": "code",
   "execution_count": 44,
   "metadata": {},
   "outputs": [
    {
     "name": "stdout",
     "output_type": "stream",
     "text": [
      "\n",
      " The Number of Unique Users in the Data Set is: 360\n"
     ]
    }
   ],
   "source": [
    "unique_users = df.select('userId','level','gender','location').distinct()\n",
    "\n",
    "print(\"\\n The Number of Unique Users in the Data Set is:\",unique_users.count())"
   ]
  },
  {
   "cell_type": "code",
   "execution_count": 45,
   "metadata": {},
   "outputs": [],
   "source": [
    "def plot_gender_stats(data):\n",
    "    \n",
    "    '''\n",
    "    Funtion to load data and plot the bar plot for user gender stats.\n",
    "    \n",
    "    INPUT\n",
    "    filename = df - a spark dataframe\n",
    "    OUTPUT\n",
    "    df - a bar plot from matplotlib\n",
    "    '''\n",
    "    \n",
    "    gender_count = df.groupby('gender').count().toPandas()\n",
    "    gender_count.set_index('gender',inplace = True)\n",
    "    gender_count\n",
    "    \n",
    "    \n",
    "    gender_count.plot(kind='bar',figsize=(10,5))\n",
    "    plt.title('Gender Comparison',fontsize = 15)\n",
    "    plt.ylabel('Count',fontsize = 15)\n",
    "    plt.xlabel('Gender',fontsize = 15)\n",
    "    plt.xticks(fontsize = 15,rotation = 45);\n",
    "    \n",
    "    \n",
    "def plot_level_stats(data):\n",
    "    \n",
    "    '''\n",
    "    Funtion to load data and plot the bar plot for user level stats.\n",
    "    \n",
    "    INPUT\n",
    "    filename = df - a spark dataframe\n",
    "    OUTPUT\n",
    "    df - a bar plot from matplotlib\n",
    "    '''\n",
    "    \n",
    "    unique_users_level = df.groupby('level').count().toPandas()\n",
    "    unique_users_level.set_index('level',inplace = True)\n",
    "    unique_users_level\n",
    "    \n",
    "    unique_users_level.plot(kind='bar',figsize=(10,5))\n",
    "    plt.title('Account Type comparison',fontsize = 15)\n",
    "    plt.ylabel('Count',fontsize = 15)\n",
    "    plt.xlabel('Account type',fontsize = 15)\n",
    "    plt.xticks(fontsize = 15,rotation = 45);\n",
    "    \n",
    "def most_played_artist(data):\n",
    "    \n",
    "    '''\n",
    "    Funtion to load data and plot the bar plot for most played stats.\n",
    "    \n",
    "    INPUT\n",
    "    filename = df - a spark dataframe\n",
    "    OUTPUT\n",
    "    df - a bar plot from matplotlib\n",
    "    '''\n",
    "    \n",
    "    most_played_artist = df.filter(df.page == 'NextSong').select('Artist').groupBy('Artist').count().toPandas()\n",
    "    most_played_artist = most_played_artist.sort_values(by=['count'],ascending = False).head(10)\n",
    "    \n",
    "    sns.barplot('Artist', 'count', data= most_played_artist)\n",
    "    plt.title('Top 10 Artists')\n",
    "    plt.xticks(rotation = 90);\n",
    "    \n",
    "def most_played_song(data):\n",
    "    \n",
    "    \n",
    "    '''\n",
    "    Funtion to load data and plot the bar plot for most played stats.\n",
    "    \n",
    "    INPUT\n",
    "    filename = df - a spark dataframe\n",
    "    OUTPUT\n",
    "    df - a bar plot from matplotlib\n",
    "    '''\n",
    "    \n",
    "    most_played_song = df.filter(df.page == 'NextSong').select('song').groupBy('song').count().toPandas()\n",
    "    most_played_song = most_played_song.sort_values(by=['count'],ascending = False).head(10)\n",
    "    \n",
    "    sns.barplot('song', 'count', data= most_played_song)\n",
    "    plt.title('Top 10 songs')\n",
    "    plt.xticks(rotation = 90); "
   ]
  },
  {
   "cell_type": "code",
   "execution_count": 46,
   "metadata": {},
   "outputs": [
    {
     "data": {
      "image/png": "[encoded data removed]",
      "text/plain": [
       "<Figure size 720x360 with 1 Axes>"
      ]
     },
     "metadata": {
      "needs_background": "light"
     },
     "output_type": "display_data"
    }
   ],
   "source": [
    "plot_level_stats(df)"
   ]
  },
  {
   "cell_type": "code",
   "execution_count": 47,
   "metadata": {},
   "outputs": [
    {
     "data": {
      "image/png": "[encoded data removed]",
      "text/plain": [
       "<Figure size 720x360 with 1 Axes>"
      ]
     },
     "metadata": {
      "needs_background": "light"
     },
     "output_type": "display_data"
    }
   ],
   "source": [
    "plot_gender_stats(df)"
   ]
  },
  {
   "cell_type": "code",
   "execution_count": 48,
   "metadata": {},
   "outputs": [
    {
     "data": {
      "image/png": "[encoded data removed]",
      "text/plain": [
       "<Figure size 432x288 with 1 Axes>"
      ]
     },
     "metadata": {
      "needs_background": "light"
     },
     "output_type": "display_data"
    }
   ],
   "source": [
    "most_played_artist(df)"
   ]
  },
  {
   "cell_type": "code",
   "execution_count": 49,
   "metadata": {},
   "outputs": [
    {
     "data": {
      "image/png": "[encoded data removed]",
      "text/plain": [
       "<Figure size 432x288 with 1 Axes>"
      ]
     },
     "metadata": {
      "needs_background": "light"
     },
     "output_type": "display_data"
    }
   ],
   "source": [
    "most_played_song(df)"
   ]
  },
  {
   "cell_type": "code",
   "execution_count": null,
   "metadata": {},
   "outputs": [],
   "source": []
  },
  {
   "cell_type": "code",
   "execution_count": 50,
   "metadata": {},
   "outputs": [],
   "source": [
    "churn_flag = udf(lambda x: 1 if x == 'Cancellation Confirmation' else 0, IntegerType())\n",
    "df = df.withColumn('isChurn', churn_flag('page'))"
   ]
  },
  {
   "cell_type": "code",
   "execution_count": 52,
   "metadata": {},
   "outputs": [],
   "source": [
    "windowval = Window.partitionBy(\"userId\").orderBy(desc(\"ts\")).rangeBetween(Window.unboundedPreceding, 0)\n",
    "df = df.withColumn(\"isChurn\", Fsum(\"isChurn\").over(windowval))"
   ]
  },
  {
   "cell_type": "code",
   "execution_count": 54,
   "metadata": {},
   "outputs": [
    {
     "name": "stdout",
     "output_type": "stream",
     "text": [
      "+--------------------+\n",
      "|                page|\n",
      "+--------------------+\n",
      "|               About|\n",
      "|          Add Friend|\n",
      "|     Add to Playlist|\n",
      "|              Cancel|\n",
      "|Cancellation Conf...|\n",
      "|           Downgrade|\n",
      "|               Error|\n",
      "|                Help|\n",
      "|                Home|\n",
      "|              Logout|\n",
      "|            NextSong|\n",
      "|         Roll Advert|\n",
      "|       Save Settings|\n",
      "|            Settings|\n",
      "|    Submit Downgrade|\n",
      "|      Submit Upgrade|\n",
      "|         Thumbs Down|\n",
      "|           Thumbs Up|\n",
      "|             Upgrade|\n",
      "+--------------------+\n",
      "\n"
     ]
    }
   ],
   "source": [
    "df.select(\"page\").dropDuplicates().sort(\"page\").show()"
   ]
  },
  {
   "cell_type": "code",
   "execution_count": 60,
   "metadata": {},
   "outputs": [
    {
     "data": {
      "text/plain": [
       "Row(artist=None, auth='Logged In', firstName='Darianna', gender='F', itemInSession=34, lastName='Carpenter', length=None, level='free', location='Bridgeport-Stamford-Norwalk, CT', method='PUT', page='Logout', registration=1538016340000, sessionId=187, song=None, status=307, ts=1542823952000, userAgent='\"Mozilla/5.0 (iPhone; CPU iPhone OS 7_1_2 like Mac OS X) AppleWebKit/537.51.2 (KHTML, like Gecko) Version/7.0 Mobile/11D257 Safari/9537.53\"', userId='100010', hour='19', month='11', year='2018', day='21', date=datetime.date(2018, 11, 21), isChurn=0)"
      ]
     },
     "execution_count": 60,
     "metadata": {},
     "output_type": "execute_result"
    }
   ],
   "source": [
    "df.head()"
   ]
  },
  {
   "cell_type": "markdown",
   "metadata": {},
   "source": [
    "### Churn Distribution"
   ]
  },
  {
   "cell_type": "code",
   "execution_count": 70,
   "metadata": {},
   "outputs": [],
   "source": [
    "churn_distribution = df.groupby('isChurn').count().toPandas()"
   ]
  },
  {
   "cell_type": "code",
   "execution_count": 72,
   "metadata": {},
   "outputs": [
    {
     "data": {
      "image/png": "[encoded data removed]",
      "text/plain": [
       "<Figure size 432x288 with 1 Axes>"
      ]
     },
     "metadata": {
      "needs_background": "light"
     },
     "output_type": "display_data"
    }
   ],
   "source": [
    "sns.barplot('isChurn', 'count', data= churn_distribution)\n",
    "plt.title('Churned Customer Distribution');"
   ]
  },
  {
   "cell_type": "markdown",
   "metadata": {},
   "source": [
    "### Average Skipped Songs"
   ]
  },
  {
   "cell_type": "code",
   "execution_count": 81,
   "metadata": {},
   "outputs": [
    {
     "data": {
      "text/html": [
       "<div>\n",
       "<style scoped>\n",
       "    .dataframe tbody tr th:only-of-type {\n",
       "        vertical-align: middle;\n",
       "    }\n",
       "\n",
       "    .dataframe tbody tr th {\n",
       "        vertical-align: top;\n",
       "    }\n",
       "\n",
       "    .dataframe thead th {\n",
       "        text-align: right;\n",
       "    }\n",
       "</style>\n",
       "<table border=\"1\" class=\"dataframe\">\n",
       "  <thead>\n",
       "    <tr style=\"text-align: right;\">\n",
       "      <th></th>\n",
       "      <th>isChurn</th>\n",
       "      <th>avgskippedsongs</th>\n",
       "    </tr>\n",
       "  </thead>\n",
       "  <tbody>\n",
       "    <tr>\n",
       "      <th>0</th>\n",
       "      <td>0</td>\n",
       "      <td>58497.226754</td>\n",
       "    </tr>\n",
       "    <tr>\n",
       "      <th>1</th>\n",
       "      <td>1</td>\n",
       "      <td>58592.305078</td>\n",
       "    </tr>\n",
       "  </tbody>\n",
       "</table>\n",
       "</div>"
      ],
      "text/plain": [
       "   isChurn  avgskippedsongs\n",
       "0        0     58497.226754\n",
       "1        1     58592.305078"
      ]
     },
     "execution_count": 81,
     "metadata": {},
     "output_type": "execute_result"
    }
   ],
   "source": [
    "skipped_songs = df.filter(df['page'] == 'NextSong').groupby('isChurn').agg({\"userId\": \"avg\"}).withColumnRenamed(\"avg(userId)\", \"avgskippedsongs\").toPandas()\n",
    "skipped_songs"
   ]
  },
  {
   "cell_type": "code",
   "execution_count": 83,
   "metadata": {},
   "outputs": [
    {
     "data": {
      "image/png": "[encoded data removed]",
      "text/plain": [
       "<Figure size 432x288 with 1 Axes>"
      ]
     },
     "metadata": {
      "needs_background": "light"
     },
     "output_type": "display_data"
    }
   ],
   "source": [
    "sns.barplot('isChurn', 'avgskippedsongs', data= skipped_songs)\n",
    "plt.title('Avg. Skipped Songs by Customer Type');"
   ]
  },
  {
   "cell_type": "markdown",
   "metadata": {},
   "source": [
    "### Avg thumbs up"
   ]
  },
  {
   "cell_type": "code",
   "execution_count": 88,
   "metadata": {},
   "outputs": [],
   "source": [
    "avg_thumbs_up = df.filter(df['page'] == 'Thumbs Up')\\\n",
    ".groupby('isChurn')\\\n",
    ".agg({\"userId\": \"avg\"})\\\n",
    ".withColumnRenamed(\"avg(userId)\", \"avgthumbsup\").toPandas()"
   ]
  },
  {
   "cell_type": "code",
   "execution_count": 89,
   "metadata": {},
   "outputs": [
    {
     "data": {
      "image/png": "[encoded data removed]",
      "text/plain": [
       "<Figure size 432x288 with 1 Axes>"
      ]
     },
     "metadata": {
      "needs_background": "light"
     },
     "output_type": "display_data"
    }
   ],
   "source": [
    "sns.barplot('isChurn', 'avgthumbsup', data= avg_thumbs_up)\n",
    "plt.title('Avg. thumbsup by Customer Type');"
   ]
  },
  {
   "cell_type": "markdown",
   "metadata": {},
   "source": [
    "### Avg thumbs down"
   ]
  },
  {
   "cell_type": "code",
   "execution_count": 94,
   "metadata": {},
   "outputs": [],
   "source": [
    "avg_thumbs_down = df.filter(df['page'] == 'Thumbs Down')\\\n",
    ".groupby('isChurn')\\\n",
    ".agg({\"userId\": \"avg\"})\\\n",
    ".withColumnRenamed(\"avg(userId)\", \"avgthumbsdown\").toPandas()"
   ]
  },
  {
   "cell_type": "code",
   "execution_count": 95,
   "metadata": {},
   "outputs": [
    {
     "data": {
      "image/png": "[encoded data removed]",
      "text/plain": [
       "<Figure size 432x288 with 1 Axes>"
      ]
     },
     "metadata": {
      "needs_background": "light"
     },
     "output_type": "display_data"
    }
   ],
   "source": [
    "sns.barplot('isChurn', 'avgthumbsdown', data= avg_thumbs_down)\n",
    "plt.title('Avg. thumbsdown by Customer Type');"
   ]
  },
  {
   "cell_type": "markdown",
   "metadata": {},
   "source": [
    "## Feature Extraction"
   ]
  },
  {
   "cell_type": "code",
   "execution_count": 108,
   "metadata": {},
   "outputs": [],
   "source": [
    "def get_flag_churn(df):\n",
    "    '''\n",
    "    Funtion to add churn flag that identifies whether a user has churned.\n",
    "    INPUT - a spark dataframe\n",
    "    OUPUT - a spark dataframe with userId of each user, churn flag and gender\n",
    "    '''\n",
    "    \n",
    "    # function to flag 'cancellation confirmation' event\n",
    "    flag_cancel_event = udf(lambda x: 1 if x == \"Cancellation Confirmation\" else 0, IntegerType())\n",
    "    df = df.withColumn(\"churn\", flag_cancel_event(\"page\"))\n",
    "    user_churn = df.groupBy(\"userId\").agg({\"churn\":\"max\", \"gender\":\"max\"})\\\n",
    "                           .withColumnRenamed(\"max(churn)\", \"label\")\\\n",
    "                           .withColumnRenamed(\"max(gender)\", \"gender\")\n",
    "    \n",
    "    #print(\"Count of rows: {}\".format(user_churn.count()))\n",
    "    return user_churn"
   ]
  },
  {
   "cell_type": "code",
   "execution_count": 110,
   "metadata": {},
   "outputs": [
    {
     "name": "stdout",
     "output_type": "stream",
     "text": [
      "root\n",
      " |-- artist: string (nullable = true)\n",
      " |-- auth: string (nullable = true)\n",
      " |-- firstName: string (nullable = true)\n",
      " |-- gender: string (nullable = true)\n",
      " |-- itemInSession: long (nullable = true)\n",
      " |-- lastName: string (nullable = true)\n",
      " |-- length: double (nullable = true)\n",
      " |-- level: string (nullable = true)\n",
      " |-- location: string (nullable = true)\n",
      " |-- method: string (nullable = true)\n",
      " |-- page: string (nullable = true)\n",
      " |-- registration: long (nullable = true)\n",
      " |-- sessionId: long (nullable = true)\n",
      " |-- song: string (nullable = true)\n",
      " |-- status: long (nullable = true)\n",
      " |-- ts: long (nullable = true)\n",
      " |-- userAgent: string (nullable = true)\n",
      " |-- userId: string (nullable = true)\n",
      " |-- hour: string (nullable = true)\n",
      " |-- month: string (nullable = true)\n",
      " |-- year: string (nullable = true)\n",
      " |-- day: string (nullable = true)\n",
      " |-- date: date (nullable = true)\n",
      " |-- isChurn: long (nullable = true)\n",
      "\n"
     ]
    }
   ],
   "source": [
    "df.printSchema()"
   ]
  },
  {
   "cell_type": "code",
   "execution_count": 113,
   "metadata": {},
   "outputs": [],
   "source": [
    "def get_latest_level(df):\n",
    "    '''\n",
    "    Funtion to find the latest level of each user.\n",
    "    INPUT - a spark dataframe\n",
    "    OUPUT - a spark dataframe with userId of each user and latest level\n",
    "    '''\n",
    "    # use timestamp to identify the most latest record for a user\n",
    "    # sort timestamp in descending order and than drop duplicates to get the last row for each user\n",
    "    latest_level = df.select([\"userId\", \"level\", \"ts\"])\\\n",
    "                        .orderBy(desc(\"ts\"))\\\n",
    "                        .dropDuplicates([\"userId\"])\\\n",
    "                        .select([\"userId\", \"level\"])\n",
    "    #print(\"Count of rows: {}\".format(latest_level.count()))\n",
    "    return latest_level"
   ]
  },
  {
   "cell_type": "code",
   "execution_count": null,
   "metadata": {},
   "outputs": [],
   "source": []
  },
  {
   "cell_type": "code",
   "execution_count": null,
   "metadata": {},
   "outputs": [],
   "source": []
  },
  {
   "cell_type": "code",
   "execution_count": null,
   "metadata": {},
   "outputs": [],
   "source": []
  },
  {
   "cell_type": "code",
   "execution_count": null,
   "metadata": {},
   "outputs": [],
   "source": []
  },
  {
   "cell_type": "code",
   "execution_count": null,
   "metadata": {},
   "outputs": [],
   "source": []
  },
  {
   "cell_type": "code",
   "execution_count": null,
   "metadata": {},
   "outputs": [],
   "source": []
  },
  {
   "cell_type": "code",
   "execution_count": null,
   "metadata": {},
   "outputs": [],
   "source": []
  },
  {
   "cell_type": "code",
   "execution_count": null,
   "metadata": {},
   "outputs": [],
   "source": []
  }
 ],
 "metadata": {
  "kernelspec": {
   "display_name": "Python 3",
   "language": "python",
   "name": "python3"
  },
  "language_info": {
   "codemirror_mode": {
    "name": "ipython",
    "version": 3
   },
   "file_extension": ".py",
   "mimetype": "text/x-python",
   "name": "python",
   "nbconvert_exporter": "python",
   "pygments_lexer": "ipython3",
   "version": "3.7.6"
  }
 },
 "nbformat": 4,
 "nbformat_minor": 4
}
